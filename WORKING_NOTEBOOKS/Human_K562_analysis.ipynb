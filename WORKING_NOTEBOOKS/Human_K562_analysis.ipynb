{
 "cells": [
  {
   "cell_type": "code",
   "execution_count": null,
   "id": "1637d3c3",
   "metadata": {},
   "outputs": [],
   "source": [
    "import pandas as pd\n",
    "import numpy as np\n",
    "from os.path import basename\n",
    "from glob import glob\n",
    "import h5py\n",
    "import scipy.stats as ss\n",
    "\n",
    "import matplotlib.pyplot as plt\n",
    "from plotnine import *\n",
    "from IPython.display import display, Markdown\n",
    "\n",
    "import sys\n",
    "sys.path.insert(0, '../CODE/')\n",
    "from importlib import reload\n",
    "import visualization_utils\n",
    "reload(visualization_utils)\n",
    "from visualization_utils import *\n",
    "\n",
    "import warnings\n",
    "warnings.filterwarnings('ignore')"
   ]
  },
  {
   "cell_type": "code",
   "execution_count": null,
   "id": "a0f84d68",
   "metadata": {},
   "outputs": [],
   "source": [
    "def resp_ratio(x):\n",
    "    return sum(x == 1) / len(x)"
   ]
  },
  {
   "cell_type": "markdown",
   "id": "56462d99",
   "metadata": {},
   "source": [
    "# Human K562 10-fold-cv performance"
   ]
  },
  {
   "cell_type": "code",
   "execution_count": null,
   "id": "7a829602",
   "metadata": {},
   "outputs": [],
   "source": [
    "out_dir = '../OUTPUT/archive/human_42tfs_k562.10_cv_folds/'\n",
    "\n",
    "pred_df = pd.read_csv(out_dir + 'preds.csv.gz')\n",
    "rr_df = pred_df.groupby('tf')['label'].agg(resp_ratio).reset_index()"
   ]
  },
  {
   "cell_type": "code",
   "execution_count": null,
   "id": "bca9b476",
   "metadata": {},
   "outputs": [],
   "source": [
    "stats_df = pd.read_csv(out_dir + 'stats.csv.gz')\n",
    "stats_df = stats_df.merge(rr_df, on='tf')\n",
    "\n",
    "stats_df"
   ]
  },
  {
   "cell_type": "code",
   "execution_count": null,
   "id": "58ca8615",
   "metadata": {},
   "outputs": [],
   "source": [
    "(\n",
    "    ggplot(stats_df, aes(x='label', y='auprc'))\n",
    "    + geom_point(color=COLORS['dark_blue'], alpha=.5)\n",
    "    + geom_abline(slope=1, intercept=0, linetype='dashed')\n",
    "    + lims(x=[0, .65], y=[0, .65])\n",
    "    + labs(x='Chance', y='AUPRC')\n",
    "    + theme_linedraw()\n",
    "    + theme(figure_size=(3, 3), dpi=150)\n",
    ")"
   ]
  },
  {
   "cell_type": "markdown",
   "id": "97420be0",
   "metadata": {},
   "source": [
    "# SHAP"
   ]
  },
  {
   "cell_type": "code",
   "execution_count": null,
   "id": "830dadb3",
   "metadata": {},
   "outputs": [],
   "source": [
    "organism = 'human_k562'\n",
    "k562_dir = '../OUTPUT/archive/human_42tfs_k562.10_cv_folds/'\n",
    "k562_tfs = np.loadtxt('../../Pert_Response_Modeling/RESOURCES/TF_list/Human_ENCODE_K562_TFs.txt', dtype=str, usecols=[0])\n",
    "\n",
    "k562_sss_df = pd.DataFrame()\n",
    "\n",
    "for i, tf_chunk in enumerate(np.array_split(k562_tfs, 4)):\n",
    "    print('Working on TF chunk {}, n={}'.format(i, len(tf_chunk)))\n",
    "    \n",
    "    k562_sss_subdf = calculate_resp_and_unresp_signed_shap_sum(k562_dir, organism=organism, tfs=tf_chunk)\n",
    "    k562_sss_df = k562_sss_df.append(k562_sss_subdf)\n",
    "\n",
    "k562_sss_df.to_csv('../OUTPUT/archive/human_42tfs_k562.10_cv_folds/signed_shap_sum.csv.gz')"
   ]
  },
  {
   "cell_type": "code",
   "execution_count": null,
   "id": "4e49bc6e",
   "metadata": {},
   "outputs": [],
   "source": [
    "# k562_sss_df = pd.read_csv('../OUTPUT/archive/human_42tfs_k562.10_cv_folds/signed_shap_sum.csv.gz')\n",
    "\n",
    "k562_sss_df = k562_sss_df.merge(stats_df[['tf', 'auprc']], on='tf', how='left')\n",
    "k562_sss_df = calculate_shap_net_influence(k562_sss_df)"
   ]
  },
  {
   "cell_type": "code",
   "execution_count": null,
   "id": "eac93696",
   "metadata": {},
   "outputs": [],
   "source": [
    "# Plot all models\n",
    "plot_df = k562_sss_df[(k562_sss_df['label_name'] == 'Responsive')]\n",
    "print('All TFs (n={})'.format(len(plot_df['tf'].unique())))\n",
    "\n",
    "ax = (\n",
    "    ggplot(plot_df, aes(x='feat_type_name', y='shap_diff'))\n",
    "    + geom_hline(yintercept=0, linetype='dashed')\n",
    "    + geom_boxplot(outlier_size=.5, size=.7, width=.4, color=COLORS['orange'])\n",
    "#     + geom_jitter(height=0, width=.2, alpha=.2, color='blue')\n",
    "    + coord_flip()\n",
    "    + ylim(-.1, 1.6)\n",
    "    + labs(x=None, y='Net influence of SHAP values\\nfor responsive genes')\n",
    "    + theme_classic()\n",
    "    + theme(\n",
    "        figure_size=(2.5, 3), dpi=150,\n",
    "        axis_text_x=element_text(color='#000000'),\n",
    "        axis_text_y=element_text(color='#000000'),\n",
    "        axis_title=element_text(size=10, lineheight=1.5))\n",
    ")\n",
    "display(ax)"
   ]
  },
  {
   "cell_type": "code",
   "execution_count": null,
   "id": "9c8d68b9",
   "metadata": {},
   "outputs": [],
   "source": [
    "# Plot all models\n",
    "plot_df = k562_sss_df[(k562_sss_df['auprc'] > 0.1) & (k562_sss_df['label_name'] == 'Responsive')]\n",
    "print('TFs w/ AUPRC > 0.1 (n={})'.format(len(plot_df['tf'].unique())))\n",
    "\n",
    "ax = (\n",
    "    ggplot(plot_df, aes(x='feat_type_name', y='shap_diff'))\n",
    "    + geom_hline(yintercept=0, linetype='dashed')\n",
    "    + geom_boxplot(outlier_size=.5, size=.7, width=.4, color=COLORS['orange'])\n",
    "#     + geom_jitter(height=0, width=.2, alpha=.2, color='blue')\n",
    "    + coord_flip()\n",
    "    + ylim(-.1, 1.5)\n",
    "    + labs(x=None, y='Net influence of SHAP values\\nfor responsive genes')\n",
    "    + theme_classic()\n",
    "    + theme(\n",
    "        figure_size=(2.5, 3), dpi=150,\n",
    "        axis_text_x=element_text(color='#000000'),\n",
    "        axis_text_y=element_text(color='#000000'),\n",
    "        axis_title=element_text(size=10, lineheight=1.5))\n",
    ")\n",
    "display(ax)"
   ]
  },
  {
   "cell_type": "code",
   "execution_count": null,
   "id": "176bf3d3",
   "metadata": {},
   "outputs": [],
   "source": []
  }
 ],
 "metadata": {
  "kernelspec": {
   "display_name": "Python 3",
   "language": "python",
   "name": "python3"
  },
  "language_info": {
   "codemirror_mode": {
    "name": "ipython",
    "version": 3
   },
   "file_extension": ".py",
   "mimetype": "text/x-python",
   "name": "python",
   "nbconvert_exporter": "python",
   "pygments_lexer": "ipython3",
   "version": "3.6.10"
  }
 },
 "nbformat": 4,
 "nbformat_minor": 5
}
