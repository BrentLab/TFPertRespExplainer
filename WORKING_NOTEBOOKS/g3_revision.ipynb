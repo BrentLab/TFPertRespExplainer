{
 "cells": [
  {
   "cell_type": "code",
   "execution_count": 1,
   "id": "466242a0",
   "metadata": {},
   "outputs": [],
   "source": [
    "from glob import glob\n",
    "\n",
    "import numpy as np\n",
    "import pandas as pd\n",
    "from sklearn.metrics import average_precision_score, jaccard_score\n",
    "import scipy.stats as ss"
   ]
  },
  {
   "cell_type": "markdown",
   "id": "a49dd7f9",
   "metadata": {},
   "source": [
    "# Response frequency as the sole predictor of response"
   ]
  },
  {
   "cell_type": "code",
   "execution_count": 2,
   "id": "f94cadde",
   "metadata": {},
   "outputs": [],
   "source": [
    "def calculate_resp_freq_prediction(resp_filepath, cv_tfs_filepath):\n",
    "    lfc_cutoff = 0.5\n",
    "    p_cutoff = 0.05\n",
    "\n",
    "    cv_tfs = pd.read_csv(cv_tfs_filepath)\n",
    "    resp_df = pd.read_csv(resp_filepath)\n",
    "    \n",
    "    # Filter for TFs in cross-validation and binarize response\n",
    "    resp_df = resp_df[resp_df['tf_ensg'].isin(cv_tfs['tf'])]\n",
    "    resp_df['isResp'] = 0\n",
    "    resp_df.loc[(np.abs(resp_df['log2FoldChange']) > lfc_cutoff) & (resp_df['padj'] < p_cutoff), 'isResp'] = 1\n",
    "\n",
    "    auc_df = pd.DataFrame()\n",
    "\n",
    "    for cv in range(10):\n",
    "        tr_tfs = cv_tfs.loc[cv_tfs['cv'] != cv, 'tf']\n",
    "        te_tfs = cv_tfs.loc[cv_tfs['cv'] == cv, 'tf']\n",
    "        \n",
    "        # Caluclate response frequency across training TFs as prediction\n",
    "        pred_df = resp_df[resp_df['tf_ensg'].isin(tr_tfs)].groupby(['gene_ensg'])[['isResp']].mean().reset_index()\n",
    "        pred_df = pred_df.sort_values('gene_ensg')\n",
    "\n",
    "        for te_tf in te_tfs:\n",
    "            # Calculate AUC on testing TFs\n",
    "            true_df = resp_df.loc[(resp_df['tf_ensg'] == te_tf), ['gene_ensg', 'isResp']]\n",
    "            true_df = true_df.sort_values('gene_ensg')\n",
    "            auc = average_precision_score(true_df['isResp'], pred_df['isResp'])\n",
    "\n",
    "            auc_df = auc_df.append(pd.Series({'tf': te_tf, 'auprc': auc}), ignore_index=True)\n",
    "\n",
    "    return auc_df.sort_values('auprc', ascending=False)"
   ]
  },
  {
   "cell_type": "code",
   "execution_count": 3,
   "id": "7a483f63",
   "metadata": {},
   "outputs": [],
   "source": [
    "k562_df = calculate_resp_freq_prediction(\n",
    "    '../RESOURCES/Human_K562_TFPert/K562_pertResp_DESeq2_long.csv',\n",
    "    '../OUTPUT/human_k562/all_feats/stats.csv.gz'\n",
    ")\n",
    "\n",
    "h1_df = calculate_resp_freq_prediction(\n",
    "    '../RESOURCES/Human_H1_TFPert/TGI_GRCh38_pertResp_DESeq_long.csv',\n",
    "    '../OUTPUT/human_h1/all_feats/stats.csv.gz'\n",
    ")\n",
    "\n",
    "hek_df = calculate_resp_freq_prediction(\n",
    "    '../RESOURCES/Human_HEK293_TFPert/GSE76495_OE_log2FC_long.csv',\n",
    "    '../OUTPUT/human_hek293/all_feats/stats.csv.gz'\n",
    ")"
   ]
  },
  {
   "cell_type": "code",
   "execution_count": 4,
   "id": "4de21bd1",
   "metadata": {},
   "outputs": [
    {
     "data": {
      "text/html": [
       "<div>\n",
       "<style scoped>\n",
       "    .dataframe tbody tr th:only-of-type {\n",
       "        vertical-align: middle;\n",
       "    }\n",
       "\n",
       "    .dataframe tbody tr th {\n",
       "        vertical-align: top;\n",
       "    }\n",
       "\n",
       "    .dataframe thead th {\n",
       "        text-align: right;\n",
       "    }\n",
       "</style>\n",
       "<table border=\"1\" class=\"dataframe\">\n",
       "  <thead>\n",
       "    <tr style=\"text-align: right;\">\n",
       "      <th></th>\n",
       "      <th>K562</th>\n",
       "      <th>H1</th>\n",
       "      <th>HEK293</th>\n",
       "    </tr>\n",
       "  </thead>\n",
       "  <tbody>\n",
       "    <tr>\n",
       "      <th>count</th>\n",
       "      <td>42.000000</td>\n",
       "      <td>23.000000</td>\n",
       "      <td>80.000000</td>\n",
       "    </tr>\n",
       "    <tr>\n",
       "      <th>mean</th>\n",
       "      <td>0.435368</td>\n",
       "      <td>0.162610</td>\n",
       "      <td>0.323638</td>\n",
       "    </tr>\n",
       "    <tr>\n",
       "      <th>std</th>\n",
       "      <td>0.281200</td>\n",
       "      <td>0.150284</td>\n",
       "      <td>0.097457</td>\n",
       "    </tr>\n",
       "    <tr>\n",
       "      <th>min</th>\n",
       "      <td>0.015158</td>\n",
       "      <td>0.000284</td>\n",
       "      <td>0.146989</td>\n",
       "    </tr>\n",
       "    <tr>\n",
       "      <th>25%</th>\n",
       "      <td>0.139614</td>\n",
       "      <td>0.046640</td>\n",
       "      <td>0.257607</td>\n",
       "    </tr>\n",
       "    <tr>\n",
       "      <th>50%</th>\n",
       "      <td>0.427388</td>\n",
       "      <td>0.106467</td>\n",
       "      <td>0.303668</td>\n",
       "    </tr>\n",
       "    <tr>\n",
       "      <th>75%</th>\n",
       "      <td>0.668673</td>\n",
       "      <td>0.279388</td>\n",
       "      <td>0.387650</td>\n",
       "    </tr>\n",
       "    <tr>\n",
       "      <th>max</th>\n",
       "      <td>0.887676</td>\n",
       "      <td>0.572410</td>\n",
       "      <td>0.601451</td>\n",
       "    </tr>\n",
       "    <tr>\n",
       "      <th>median</th>\n",
       "      <td>0.427388</td>\n",
       "      <td>0.106467</td>\n",
       "      <td>0.303668</td>\n",
       "    </tr>\n",
       "  </tbody>\n",
       "</table>\n",
       "</div>"
      ],
      "text/plain": [
       "             K562         H1     HEK293\n",
       "count   42.000000  23.000000  80.000000\n",
       "mean     0.435368   0.162610   0.323638\n",
       "std      0.281200   0.150284   0.097457\n",
       "min      0.015158   0.000284   0.146989\n",
       "25%      0.139614   0.046640   0.257607\n",
       "50%      0.427388   0.106467   0.303668\n",
       "75%      0.668673   0.279388   0.387650\n",
       "max      0.887676   0.572410   0.601451\n",
       "median   0.427388   0.106467   0.303668"
      ]
     },
     "execution_count": 4,
     "metadata": {},
     "output_type": "execute_result"
    }
   ],
   "source": [
    "k562_stats = pd.concat([k562_df.describe(), pd.DataFrame({'auprc': [np.median(k562_df['auprc'])]}, index=['median'])]).rename(columns={'auprc': 'K562'})\n",
    "h1_stats = pd.concat([h1_df.describe(), pd.DataFrame({'auprc': [np.median(h1_df['auprc'])]}, index=['median'])]).rename(columns={'auprc': 'H1'})\n",
    "hek_stats = pd.concat([hek_df.describe(), pd.DataFrame({'auprc': [np.median(hek_df['auprc'])]}, index=['median'])]).rename(columns={'auprc': 'HEK293'})\n",
    "\n",
    "stats = pd.concat([k562_stats, h1_stats, hek_stats], axis=1)\n",
    "\n",
    "display(stats)"
   ]
  },
  {
   "cell_type": "code",
   "execution_count": 5,
   "id": "ed6d863d",
   "metadata": {},
   "outputs": [],
   "source": [
    "k562_df.to_csv('g3_revision/response_frequency_prediction.k562.csv', index=False)\n",
    "h1_df.to_csv('g3_revision/response_frequency_prediction.h1.csv', index=False)\n",
    "hek_df.to_csv('g3_revision/response_frequency_prediction.hek293.csv', index=False)\n",
    "\n",
    "stats.to_csv('g3_revision/response_frequency_prediction.stats.csv', index=False)"
   ]
  },
  {
   "cell_type": "markdown",
   "id": "2b986456",
   "metadata": {},
   "source": [
    "# Jaccard similarity of responsive gene set for each TF pair"
   ]
  },
  {
   "cell_type": "code",
   "execution_count": 9,
   "id": "baff7221",
   "metadata": {},
   "outputs": [],
   "source": [
    "def calculate_resp_gene_jaccard(resp_filepath, cv_tfs_filepath):\n",
    "    lfc_cutoff = 0.5\n",
    "    p_cutoff = 0.05\n",
    "\n",
    "    tfs = pd.read_csv(cv_tfs_filepath)['tf'].to_list()\n",
    "    resp_df = pd.read_csv(resp_filepath)\n",
    "    \n",
    "    # Filter for TFs in cross-validation and binarize response\n",
    "    resp_df = resp_df[resp_df['tf_ensg'].isin(tfs)]\n",
    "    resp_df['isResp'] = 0\n",
    "    resp_df.loc[(np.abs(resp_df['log2FoldChange']) > lfc_cutoff) & (resp_df['padj'] < p_cutoff), 'isResp'] = 1\n",
    "    \n",
    "    # Calculate Jaccard similarity of each TF pair\n",
    "    jacc_df = pd.DataFrame()\n",
    "    n = len(tfs)\n",
    "    \n",
    "    for i in range(n - 1):\n",
    "        for j in range(i + 1, n):\n",
    "            tf1, tf2 = tfs[i], tfs[j]\n",
    "            tf1_resp = resp_df.loc[resp_df['tf_ensg'] == tf1, ['gene_ensg', 'isResp']].sort_values('gene_ensg')\n",
    "            tf2_resp = resp_df.loc[resp_df['tf_ensg'] == tf2, ['gene_ensg', 'isResp']].sort_values('gene_ensg')\n",
    "            score = jaccard_score(tf1_resp['isResp'], tf2_resp['isResp'])\n",
    "            \n",
    "            jacc_df = jacc_df.append(pd.Series({'tfPair': tf1 + '-' + tf2, 'jaccScore': score}), ignore_index=True)\n",
    "    \n",
    "    return jacc_df"
   ]
  },
  {
   "cell_type": "code",
   "execution_count": 13,
   "id": "a167760c",
   "metadata": {},
   "outputs": [],
   "source": [
    "k562_df = calculate_resp_gene_jaccard(\n",
    "    '../RESOURCES/Human_K562_TFPert/K562_pertResp_DESeq2_long.csv',\n",
    "    '../OUTPUT/human_k562/all_feats/stats.csv.gz'\n",
    ")\n",
    "\n",
    "h1_df = calculate_resp_gene_jaccard(\n",
    "    '../RESOURCES/Human_H1_TFPert/TGI_GRCh38_pertResp_DESeq_long.csv',\n",
    "    '../OUTPUT/human_h1/all_feats/stats.csv.gz'\n",
    ")\n",
    "\n",
    "hek_df = calculate_resp_gene_jaccard(\n",
    "    '../RESOURCES/Human_HEK293_TFPert/GSE76495_OE_log2FC_long.csv',\n",
    "    '../OUTPUT/human_hek293/all_feats/stats.csv.gz'\n",
    ")"
   ]
  },
  {
   "cell_type": "code",
   "execution_count": 14,
   "id": "b9b7bb37",
   "metadata": {},
   "outputs": [
    {
     "data": {
      "text/html": [
       "<div>\n",
       "<style scoped>\n",
       "    .dataframe tbody tr th:only-of-type {\n",
       "        vertical-align: middle;\n",
       "    }\n",
       "\n",
       "    .dataframe tbody tr th {\n",
       "        vertical-align: top;\n",
       "    }\n",
       "\n",
       "    .dataframe thead th {\n",
       "        text-align: right;\n",
       "    }\n",
       "</style>\n",
       "<table border=\"1\" class=\"dataframe\">\n",
       "  <thead>\n",
       "    <tr style=\"text-align: right;\">\n",
       "      <th></th>\n",
       "      <th>K562</th>\n",
       "      <th>H1</th>\n",
       "      <th>HEK293</th>\n",
       "    </tr>\n",
       "  </thead>\n",
       "  <tbody>\n",
       "    <tr>\n",
       "      <th>count</th>\n",
       "      <td>861.000000</td>\n",
       "      <td>253.000000</td>\n",
       "      <td>3160.000000</td>\n",
       "    </tr>\n",
       "    <tr>\n",
       "      <th>mean</th>\n",
       "      <td>0.121900</td>\n",
       "      <td>0.043795</td>\n",
       "      <td>0.119987</td>\n",
       "    </tr>\n",
       "    <tr>\n",
       "      <th>std</th>\n",
       "      <td>0.145066</td>\n",
       "      <td>0.052308</td>\n",
       "      <td>0.047740</td>\n",
       "    </tr>\n",
       "    <tr>\n",
       "      <th>min</th>\n",
       "      <td>0.000000</td>\n",
       "      <td>0.000000</td>\n",
       "      <td>0.014586</td>\n",
       "    </tr>\n",
       "    <tr>\n",
       "      <th>25%</th>\n",
       "      <td>0.024076</td>\n",
       "      <td>0.010139</td>\n",
       "      <td>0.089890</td>\n",
       "    </tr>\n",
       "    <tr>\n",
       "      <th>50%</th>\n",
       "      <td>0.072350</td>\n",
       "      <td>0.024595</td>\n",
       "      <td>0.113495</td>\n",
       "    </tr>\n",
       "    <tr>\n",
       "      <th>75%</th>\n",
       "      <td>0.144661</td>\n",
       "      <td>0.053430</td>\n",
       "      <td>0.141489</td>\n",
       "    </tr>\n",
       "    <tr>\n",
       "      <th>max</th>\n",
       "      <td>0.710059</td>\n",
       "      <td>0.309119</td>\n",
       "      <td>0.601491</td>\n",
       "    </tr>\n",
       "    <tr>\n",
       "      <th>median</th>\n",
       "      <td>0.072350</td>\n",
       "      <td>0.024595</td>\n",
       "      <td>0.113495</td>\n",
       "    </tr>\n",
       "  </tbody>\n",
       "</table>\n",
       "</div>"
      ],
      "text/plain": [
       "              K562          H1       HEK293\n",
       "count   861.000000  253.000000  3160.000000\n",
       "mean      0.121900    0.043795     0.119987\n",
       "std       0.145066    0.052308     0.047740\n",
       "min       0.000000    0.000000     0.014586\n",
       "25%       0.024076    0.010139     0.089890\n",
       "50%       0.072350    0.024595     0.113495\n",
       "75%       0.144661    0.053430     0.141489\n",
       "max       0.710059    0.309119     0.601491\n",
       "median    0.072350    0.024595     0.113495"
      ]
     },
     "metadata": {},
     "output_type": "display_data"
    }
   ],
   "source": [
    "k562_stats = pd.concat([k562_df.describe(), pd.DataFrame({'jaccScore': [np.median(k562_df['jaccScore'])]}, index=['median'])]).rename(columns={'jaccScore': 'K562'})\n",
    "h1_stats = pd.concat([h1_df.describe(), pd.DataFrame({'jaccScore': [np.median(h1_df['jaccScore'])]}, index=['median'])]).rename(columns={'jaccScore': 'H1'})\n",
    "hek_stats = pd.concat([hek_df.describe(), pd.DataFrame({'jaccScore': [np.median(hek_df['jaccScore'])]}, index=['median'])]).rename(columns={'jaccScore': 'HEK293'})\n",
    "\n",
    "stats = pd.concat([k562_stats, h1_stats, hek_stats], axis=1)\n",
    "\n",
    "display(stats)"
   ]
  },
  {
   "cell_type": "code",
   "execution_count": 15,
   "id": "184da716",
   "metadata": {},
   "outputs": [],
   "source": [
    "k562_df.to_csv('g3_revision/jaccard_resp_set.k562.csv', index=False)\n",
    "h1_df.to_csv('g3_revision/jaccard_resp_set.h1.csv', index=False)\n",
    "hek_df.to_csv('g3_revision/jaccard_resp_set.hek293.csv', index=False)\n",
    "\n",
    "stats.to_csv('g3_revision/jaccard_resp_set.stats.csv', index=False)"
   ]
  },
  {
   "cell_type": "markdown",
   "id": "79330811",
   "metadata": {},
   "source": [
    "# Correlation of response frequency for each cell line pair"
   ]
  },
  {
   "cell_type": "code",
   "execution_count": 16,
   "id": "cb1ef6bb",
   "metadata": {},
   "outputs": [],
   "source": [
    "def calculate_resp_freq(resp_filepath, cv_tfs_filepath):\n",
    "    lfc_cutoff = 0.5\n",
    "    p_cutoff = 0.05\n",
    "\n",
    "    tfs = pd.read_csv(cv_tfs_filepath)['tf'].to_list()\n",
    "    resp_df = pd.read_csv(resp_filepath)\n",
    "    \n",
    "    # Filter for TFs in cross-validation and binarize response\n",
    "    resp_df = resp_df[resp_df['tf_ensg'].isin(tfs)]\n",
    "    resp_df['isResp'] = 0\n",
    "    resp_df.loc[(np.abs(resp_df['log2FoldChange']) > lfc_cutoff) & (resp_df['padj'] < p_cutoff), 'isResp'] = 1\n",
    "    \n",
    "    freq_df = resp_df.groupby(['gene_ensg'])[['isResp']].mean().reset_index()\n",
    "    return freq_df"
   ]
  },
  {
   "cell_type": "code",
   "execution_count": 22,
   "id": "350808a9",
   "metadata": {},
   "outputs": [
    {
     "data": {
      "text/html": [
       "<div>\n",
       "<style scoped>\n",
       "    .dataframe tbody tr th:only-of-type {\n",
       "        vertical-align: middle;\n",
       "    }\n",
       "\n",
       "    .dataframe tbody tr th {\n",
       "        vertical-align: top;\n",
       "    }\n",
       "\n",
       "    .dataframe thead th {\n",
       "        text-align: right;\n",
       "    }\n",
       "</style>\n",
       "<table border=\"1\" class=\"dataframe\">\n",
       "  <thead>\n",
       "    <tr style=\"text-align: right;\">\n",
       "      <th></th>\n",
       "      <th>pearsonPval</th>\n",
       "      <th>pearsonR</th>\n",
       "      <th>tfPair</th>\n",
       "    </tr>\n",
       "  </thead>\n",
       "  <tbody>\n",
       "    <tr>\n",
       "      <th>0</th>\n",
       "      <td>6.775135e-119</td>\n",
       "      <td>0.164214</td>\n",
       "      <td>K562-H1</td>\n",
       "    </tr>\n",
       "    <tr>\n",
       "      <th>1</th>\n",
       "      <td>5.072378e-42</td>\n",
       "      <td>0.096643</td>\n",
       "      <td>K562-HEK293</td>\n",
       "    </tr>\n",
       "    <tr>\n",
       "      <th>2</th>\n",
       "      <td>3.745144e-243</td>\n",
       "      <td>0.234187</td>\n",
       "      <td>H1-HEK293</td>\n",
       "    </tr>\n",
       "  </tbody>\n",
       "</table>\n",
       "</div>"
      ],
      "text/plain": [
       "     pearsonPval  pearsonR       tfPair\n",
       "0  6.775135e-119  0.164214      K562-H1\n",
       "1   5.072378e-42  0.096643  K562-HEK293\n",
       "2  3.745144e-243  0.234187    H1-HEK293"
      ]
     },
     "metadata": {},
     "output_type": "display_data"
    }
   ],
   "source": [
    "k562_freq = calculate_resp_freq(\n",
    "    '../RESOURCES/Human_K562_TFPert/K562_pertResp_DESeq2_long.csv',\n",
    "    '../OUTPUT/human_k562/all_feats/stats.csv.gz'\n",
    ")\n",
    "\n",
    "h1_freq = calculate_resp_freq(\n",
    "    '../RESOURCES/Human_H1_TFPert/TGI_GRCh38_pertResp_DESeq_long.csv',\n",
    "    '../OUTPUT/human_h1/all_feats/stats.csv.gz'\n",
    ")\n",
    "\n",
    "hek_freq = calculate_resp_freq(\n",
    "    '../RESOURCES/Human_HEK293_TFPert/GSE76495_OE_log2FC_long.csv',\n",
    "    '../OUTPUT/human_hek293/all_feats/stats.csv.gz'\n",
    ")\n",
    "\n",
    "common_genes = set(k562_freq['gene_ensg'].tolist()) & \\\n",
    "                set(h1_freq['gene_ensg'].tolist()) & \\\n",
    "                set(hek_freq['gene_ensg'].tolist())\n",
    "\n",
    "k562_freq = k562_freq[k562_freq['gene_ensg'].isin(common_genes)].sort_values('gene_ensg')\n",
    "h1_freq = h1_freq[h1_freq['gene_ensg'].isin(common_genes)].sort_values('gene_ensg')\n",
    "hek_freq = hek_freq[hek_freq['gene_ensg'].isin(common_genes)].sort_values('gene_ensg')\n",
    "\n",
    "pearson_stats = pd.DataFrame()\n",
    "\n",
    "r, p = ss.pearsonr(k562_freq['isResp'], h1_freq['isResp'])\n",
    "pearson_stats = pearson_stats.append(pd.Series({'tfPair': 'K562-H1', 'pearsonR': r, 'pearsonPval': p}), ignore_index=True)\n",
    "r, p = ss.pearsonr(k562_freq['isResp'], hek_freq['isResp'])\n",
    "pearson_stats = pearson_stats.append(pd.Series({'tfPair': 'K562-HEK293', 'pearsonR': r, 'pearsonPval': p}), ignore_index=True)\n",
    "r, p = ss.pearsonr(h1_freq['isResp'], hek_freq['isResp'])\n",
    "pearson_stats = pearson_stats.append(pd.Series({'tfPair': 'H1-HEK293', 'pearsonR': r, 'pearsonPval': p}), ignore_index=True)\n",
    "\n",
    "display(pearson_stats)"
   ]
  },
  {
   "cell_type": "code",
   "execution_count": 25,
   "id": "608acce0",
   "metadata": {},
   "outputs": [],
   "source": [
    "pearson_stats[['tfPair', 'pearsonR', 'pearsonPval']].to_csv(\n",
    "    'g3_revision/response_frequency_correlation.csv', index=False\n",
    ")"
   ]
  },
  {
   "cell_type": "markdown",
   "id": "ba25ddfe",
   "metadata": {},
   "source": [
    "# DE Prior (Crow, 2019) as the sole predictor of response"
   ]
  },
  {
   "cell_type": "code",
   "execution_count": 2,
   "id": "17e59c9c",
   "metadata": {},
   "outputs": [],
   "source": [
    "def load_de_prior(de_prior_filepath, gene_map_filepath):\n",
    "    de_prior = pd.read_csv(de_prior_filepath, sep='\\t')\n",
    "    gene_map = pd.read_csv(gene_map_filepath, sep='\\t')\n",
    "    gene_map = gene_map.rename(columns={'ensembl_gene_id': 'gene_ensg', 'external_gene_name': 'Gene_Name'})\n",
    "    \n",
    "    de_prior = de_prior.merge(gene_map, on='Gene_Name', how='inner')\n",
    "    \n",
    "    return de_prior[['gene_ensg', 'DE_Prior_Rank']]\n",
    "\n",
    "\n",
    "def calculate_de_prior_prediction(de_prior_df, resp_filepath, cv_tfs_filepath):\n",
    "    lfc_cutoff = 0.5\n",
    "    p_cutoff = 0.05\n",
    "\n",
    "    cv_tfs = pd.read_csv(cv_tfs_filepath)\n",
    "    resp_df = pd.read_csv(resp_filepath)\n",
    "    \n",
    "    # Filter for TFs in cross-validation and binarize response\n",
    "    resp_df = resp_df[resp_df['tf_ensg'].isin(cv_tfs['tf'])]\n",
    "    resp_df['isResp'] = 0\n",
    "    resp_df.loc[(np.abs(resp_df['log2FoldChange']) > lfc_cutoff) & (resp_df['padj'] < p_cutoff), 'isResp'] = 1\n",
    "\n",
    "    auc_df = pd.DataFrame()\n",
    "\n",
    "    for tf in cv_tfs['tf'].tolist():\n",
    "        # Calculate AUC on testing TFs\n",
    "        comb_df = resp_df.loc[(resp_df['tf_ensg'] == tf), ['gene_ensg', 'isResp']]\n",
    "        comb_df = comb_df.merge(de_prior_df, on='gene_ensg', how='inner')\n",
    "        comb_df = comb_df.sort_values('gene_ensg')\n",
    "        auc = average_precision_score(comb_df['isResp'], comb_df['DE_Prior_Rank'])\n",
    "\n",
    "        auc_df = auc_df.append(pd.Series({'tf': tf, 'auprc': auc}), ignore_index=True)\n",
    "\n",
    "    return auc_df.sort_values('auprc', ascending=False)"
   ]
  },
  {
   "cell_type": "code",
   "execution_count": 3,
   "id": "681e1ec5",
   "metadata": {},
   "outputs": [
    {
     "name": "stdout",
     "output_type": "stream",
     "text": [
      "(18474, 2)\n"
     ]
    },
    {
     "data": {
      "text/html": [
       "<div>\n",
       "<style scoped>\n",
       "    .dataframe tbody tr th:only-of-type {\n",
       "        vertical-align: middle;\n",
       "    }\n",
       "\n",
       "    .dataframe tbody tr th {\n",
       "        vertical-align: top;\n",
       "    }\n",
       "\n",
       "    .dataframe thead th {\n",
       "        text-align: right;\n",
       "    }\n",
       "</style>\n",
       "<table border=\"1\" class=\"dataframe\">\n",
       "  <thead>\n",
       "    <tr style=\"text-align: right;\">\n",
       "      <th></th>\n",
       "      <th>gene_ensg</th>\n",
       "      <th>DE_Prior_Rank</th>\n",
       "    </tr>\n",
       "  </thead>\n",
       "  <tbody>\n",
       "    <tr>\n",
       "      <th>0</th>\n",
       "      <td>ENSG00000229807</td>\n",
       "      <td>1.000000</td>\n",
       "    </tr>\n",
       "    <tr>\n",
       "      <th>1</th>\n",
       "      <td>ENSG00000067048</td>\n",
       "      <td>0.999948</td>\n",
       "    </tr>\n",
       "    <tr>\n",
       "      <th>2</th>\n",
       "      <td>ENSG00000198692</td>\n",
       "      <td>0.999870</td>\n",
       "    </tr>\n",
       "    <tr>\n",
       "      <th>3</th>\n",
       "      <td>ENSG00000012817</td>\n",
       "      <td>0.999870</td>\n",
       "    </tr>\n",
       "    <tr>\n",
       "      <th>4</th>\n",
       "      <td>ENSG00000114374</td>\n",
       "      <td>0.999791</td>\n",
       "    </tr>\n",
       "  </tbody>\n",
       "</table>\n",
       "</div>"
      ],
      "text/plain": [
       "         gene_ensg  DE_Prior_Rank\n",
       "0  ENSG00000229807       1.000000\n",
       "1  ENSG00000067048       0.999948\n",
       "2  ENSG00000198692       0.999870\n",
       "3  ENSG00000012817       0.999870\n",
       "4  ENSG00000114374       0.999791"
      ]
     },
     "metadata": {},
     "output_type": "display_data"
    }
   ],
   "source": [
    "de_prior_df = load_de_prior(\n",
    "    '../../human_data/DE_Prior_Crow_2019/DEprior/DE_Prior.txt',\n",
    "    '../../human_data/hg38_genome/genes.ENSG.tbl'\n",
    ")\n",
    "\n",
    "print(de_prior_df.shape)\n",
    "display(de_prior_df.head())"
   ]
  },
  {
   "cell_type": "code",
   "execution_count": 4,
   "id": "ec7da0ad",
   "metadata": {},
   "outputs": [],
   "source": [
    "k562_df = calculate_de_prior_prediction(\n",
    "    de_prior_df,\n",
    "    '../RESOURCES/Human_K562_TFPert/K562_pertResp_DESeq2_long.csv',\n",
    "    '../OUTPUT/human_k562/all_feats/stats.csv.gz'\n",
    ")\n",
    "\n",
    "h1_df = calculate_de_prior_prediction(\n",
    "    de_prior_df,\n",
    "    '../RESOURCES/Human_H1_TFPert/TGI_GRCh38_pertResp_DESeq_long.csv',\n",
    "    '../OUTPUT/human_h1/all_feats/stats.csv.gz'\n",
    ")\n",
    "\n",
    "hek_df = calculate_de_prior_prediction(\n",
    "    de_prior_df,\n",
    "    '../RESOURCES/Human_HEK293_TFPert/GSE76495_OE_log2FC_long.csv',\n",
    "    '../OUTPUT/human_hek293/all_feats/stats.csv.gz'\n",
    ")"
   ]
  },
  {
   "cell_type": "code",
   "execution_count": 5,
   "id": "764b18ea",
   "metadata": {},
   "outputs": [
    {
     "data": {
      "text/html": [
       "<div>\n",
       "<style scoped>\n",
       "    .dataframe tbody tr th:only-of-type {\n",
       "        vertical-align: middle;\n",
       "    }\n",
       "\n",
       "    .dataframe tbody tr th {\n",
       "        vertical-align: top;\n",
       "    }\n",
       "\n",
       "    .dataframe thead th {\n",
       "        text-align: right;\n",
       "    }\n",
       "</style>\n",
       "<table border=\"1\" class=\"dataframe\">\n",
       "  <thead>\n",
       "    <tr style=\"text-align: right;\">\n",
       "      <th></th>\n",
       "      <th>K562</th>\n",
       "      <th>H1</th>\n",
       "      <th>HEK293</th>\n",
       "    </tr>\n",
       "  </thead>\n",
       "  <tbody>\n",
       "    <tr>\n",
       "      <th>count</th>\n",
       "      <td>42.000000</td>\n",
       "      <td>23.000000</td>\n",
       "      <td>80.000000</td>\n",
       "    </tr>\n",
       "    <tr>\n",
       "      <th>mean</th>\n",
       "      <td>0.091143</td>\n",
       "      <td>0.105769</td>\n",
       "      <td>0.118352</td>\n",
       "    </tr>\n",
       "    <tr>\n",
       "      <th>std</th>\n",
       "      <td>0.078805</td>\n",
       "      <td>0.120176</td>\n",
       "      <td>0.059632</td>\n",
       "    </tr>\n",
       "    <tr>\n",
       "      <th>min</th>\n",
       "      <td>0.001507</td>\n",
       "      <td>0.000212</td>\n",
       "      <td>0.017180</td>\n",
       "    </tr>\n",
       "    <tr>\n",
       "      <th>25%</th>\n",
       "      <td>0.023039</td>\n",
       "      <td>0.020895</td>\n",
       "      <td>0.078448</td>\n",
       "    </tr>\n",
       "    <tr>\n",
       "      <th>50%</th>\n",
       "      <td>0.057645</td>\n",
       "      <td>0.051593</td>\n",
       "      <td>0.103492</td>\n",
       "    </tr>\n",
       "    <tr>\n",
       "      <th>75%</th>\n",
       "      <td>0.157298</td>\n",
       "      <td>0.177593</td>\n",
       "      <td>0.157015</td>\n",
       "    </tr>\n",
       "    <tr>\n",
       "      <th>max</th>\n",
       "      <td>0.264420</td>\n",
       "      <td>0.465133</td>\n",
       "      <td>0.287455</td>\n",
       "    </tr>\n",
       "    <tr>\n",
       "      <th>median</th>\n",
       "      <td>0.057645</td>\n",
       "      <td>0.051593</td>\n",
       "      <td>0.103492</td>\n",
       "    </tr>\n",
       "  </tbody>\n",
       "</table>\n",
       "</div>"
      ],
      "text/plain": [
       "             K562         H1     HEK293\n",
       "count   42.000000  23.000000  80.000000\n",
       "mean     0.091143   0.105769   0.118352\n",
       "std      0.078805   0.120176   0.059632\n",
       "min      0.001507   0.000212   0.017180\n",
       "25%      0.023039   0.020895   0.078448\n",
       "50%      0.057645   0.051593   0.103492\n",
       "75%      0.157298   0.177593   0.157015\n",
       "max      0.264420   0.465133   0.287455\n",
       "median   0.057645   0.051593   0.103492"
      ]
     },
     "metadata": {},
     "output_type": "display_data"
    }
   ],
   "source": [
    "k562_stats = pd.concat([k562_df.describe(), pd.DataFrame({'auprc': [np.median(k562_df['auprc'])]}, index=['median'])]).rename(columns={'auprc': 'K562'})\n",
    "h1_stats = pd.concat([h1_df.describe(), pd.DataFrame({'auprc': [np.median(h1_df['auprc'])]}, index=['median'])]).rename(columns={'auprc': 'H1'})\n",
    "hek_stats = pd.concat([hek_df.describe(), pd.DataFrame({'auprc': [np.median(hek_df['auprc'])]}, index=['median'])]).rename(columns={'auprc': 'HEK293'})\n",
    "\n",
    "stats = pd.concat([k562_stats, h1_stats, hek_stats], axis=1)\n",
    "\n",
    "display(stats)"
   ]
  },
  {
   "cell_type": "code",
   "execution_count": 6,
   "id": "b4da2e55",
   "metadata": {},
   "outputs": [],
   "source": [
    "k562_df.to_csv('g3_revision/de_prior_prediction.k562.csv', index=False)\n",
    "h1_df.to_csv('g3_revision/de_prior_prediction.h1.csv', index=False)\n",
    "hek_df.to_csv('g3_revision/de_prior_prediction.hek293.csv', index=False)\n",
    "\n",
    "stats.to_csv('g3_revision/de_prior_prediction.stats.csv', index=False)"
   ]
  },
  {
   "cell_type": "markdown",
   "id": "40634b7d",
   "metadata": {},
   "source": [
    "### Compare DE Prior predictive power against chance"
   ]
  },
  {
   "cell_type": "code",
   "execution_count": 15,
   "id": "f2d303fe",
   "metadata": {},
   "outputs": [],
   "source": [
    "from plotnine import *\n",
    "\n",
    "def resp_ratio(x):\n",
    "    return sum(x == 1) / len(x)"
   ]
  },
  {
   "cell_type": "code",
   "execution_count": 19,
   "id": "6ea20a93",
   "metadata": {},
   "outputs": [
    {
     "data": {
      "image/png": "[encoded data removed]",
      "text/plain": [
       "<Figure size 450x450 with 1 Axes>"
      ]
     },
     "metadata": {},
     "output_type": "display_data"
    },
    {
     "data": {
      "text/plain": [
       "<ggplot: (1426865630626)>"
      ]
     },
     "metadata": {},
     "output_type": "display_data"
    }
   ],
   "source": [
    "organism = 'human_k562'\n",
    "output_dir = '../OUTPUT/human_k562/all_feats/'\n",
    "\n",
    "pred_df = pd.read_csv(output_dir + 'preds.csv.gz')\n",
    "rr_df = pred_df.groupby('tf')['label'].agg(resp_ratio).reset_index()\n",
    "\n",
    "plot_df = k562_df.merge(rr_df, on='tf').dropna()\n",
    "\n",
    "ax = (\n",
    "    ggplot(plot_df, aes(x='label', y='auprc'))\n",
    "    + geom_point(color='blue', alpha=.7)\n",
    "    + geom_abline(slope=1, intercept=0, linetype='dashed')\n",
    "    + labs(x='Chance', y='AUPRC')\n",
    "    + theme_linedraw()\n",
    "    + theme(figure_size=(3, 3), dpi=150)\n",
    ")\n",
    "\n",
    "display(ax)"
   ]
  },
  {
   "cell_type": "code",
   "execution_count": 20,
   "id": "80a467b9",
   "metadata": {},
   "outputs": [
    {
     "data": {
      "image/png": "[encoded data removed]",
      "text/plain": [
       "<Figure size 450x450 with 1 Axes>"
      ]
     },
     "metadata": {},
     "output_type": "display_data"
    },
    {
     "data": {
      "text/plain": [
       "<ggplot: (1426872877295)>"
      ]
     },
     "metadata": {},
     "output_type": "display_data"
    }
   ],
   "source": [
    "organism = 'human_h1'\n",
    "output_dir = '../OUTPUT/human_h1/all_feats/'\n",
    "\n",
    "pred_df = pd.read_csv(output_dir + 'preds.csv.gz')\n",
    "rr_df = pred_df.groupby('tf')['label'].agg(resp_ratio).reset_index()\n",
    "\n",
    "plot_df = h1_df.merge(rr_df, on='tf').dropna()\n",
    "\n",
    "ax = (\n",
    "    ggplot(plot_df, aes(x='label', y='auprc'))\n",
    "    + geom_point(color='blue', alpha=.7)\n",
    "    + geom_abline(slope=1, intercept=0, linetype='dashed')\n",
    "    + labs(x='Chance', y='AUPRC')\n",
    "    + theme_linedraw()\n",
    "    + theme(figure_size=(3, 3), dpi=150)\n",
    ")\n",
    "\n",
    "display(ax)"
   ]
  },
  {
   "cell_type": "code",
   "execution_count": 22,
   "id": "6bcd320a",
   "metadata": {},
   "outputs": [
    {
     "data": {
      "image/png": "[encoded data removed]",
      "text/plain": [
       "<Figure size 450x450 with 1 Axes>"
      ]
     },
     "metadata": {},
     "output_type": "display_data"
    },
    {
     "data": {
      "text/plain": [
       "<ggplot: (-9223370609994344760)>"
      ]
     },
     "metadata": {},
     "output_type": "display_data"
    }
   ],
   "source": [
    "organism = 'human_hek293'\n",
    "output_dir = '../OUTPUT/human_hek293/all_feats/'\n",
    "\n",
    "pred_df = pd.read_csv(output_dir + 'preds.csv.gz')\n",
    "rr_df = pred_df.groupby('tf')['label'].agg(resp_ratio).reset_index()\n",
    "\n",
    "plot_df = hek_df.merge(rr_df, on='tf').dropna()\n",
    "\n",
    "ax = (\n",
    "    ggplot(plot_df, aes(x='label', y='auprc'))\n",
    "    + geom_point(color='blue', alpha=.7)\n",
    "    + geom_abline(slope=1, intercept=0, linetype='dashed')\n",
    "    + labs(x='Chance', y='AUPRC')\n",
    "    + theme_linedraw()\n",
    "    + theme(figure_size=(3, 3), dpi=150)\n",
    ")\n",
    "\n",
    "display(ax)"
   ]
  },
  {
   "cell_type": "code",
   "execution_count": null,
   "id": "81af0120",
   "metadata": {},
   "outputs": [],
   "source": []
  }
 ],
 "metadata": {
  "kernelspec": {
   "display_name": "Python 3",
   "language": "python",
   "name": "python3"
  },
  "language_info": {
   "codemirror_mode": {
    "name": "ipython",
    "version": 3
   },
   "file_extension": ".py",
   "mimetype": "text/x-python",
   "name": "python",
   "nbconvert_exporter": "python",
   "pygments_lexer": "ipython3",
   "version": "3.6.10"
  }
 },
 "nbformat": 4,
 "nbformat_minor": 5
}
